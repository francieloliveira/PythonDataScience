{
 "cells": [
  {
   "cell_type": "code",
   "execution_count": null,
   "id": "3a68d888-7b95-4bda-bced-58f70c1c4519",
   "metadata": {},
   "outputs": [],
   "source": [
    "import nltk\n",
    "nltk.download('all')\n",
    "#nltk.download('gutenberg')\n",
    "#nltk.download('genesis')\n",
    "#nltk.download('inaugural')\n",
    "#nltk.download('nps_chat')\n",
    "#nltk.download('webtext')\n",
    "#nltk.download('treebank')\n",
    "from nltk.book import *"
   ]
  },
  {
   "cell_type": "code",
   "execution_count": 4,
   "id": "8100b844-faa0-42b7-95e9-db440dc87346",
   "metadata": {},
   "outputs": [
    {
     "data": {
      "text/plain": [
       "nltk.text.Text"
      ]
     },
     "execution_count": 4,
     "metadata": {},
     "output_type": "execute_result"
    }
   ],
   "source": [
    "type(text1)"
   ]
  },
  {
   "cell_type": "code",
   "execution_count": 5,
   "id": "6fce08d2-fae9-4df3-a26d-09148b80e9ba",
   "metadata": {},
   "outputs": [],
   "source": [
    "n_words = len(text1)"
   ]
  },
  {
   "cell_type": "code",
   "execution_count": 6,
   "id": "538a6d6d-0840-4222-b9ea-95f1d253e9b6",
   "metadata": {},
   "outputs": [
    {
     "data": {
      "text/plain": [
       "260819"
      ]
     },
     "execution_count": 6,
     "metadata": {},
     "output_type": "execute_result"
    }
   ],
   "source": [
    "n_words"
   ]
  },
  {
   "cell_type": "code",
   "execution_count": 13,
   "id": "f98698df-8cde-4be9-bb72-44d0e1cc4af5",
   "metadata": {},
   "outputs": [
    {
     "data": {
      "text/plain": [
       "19317"
      ]
     },
     "execution_count": 13,
     "metadata": {},
     "output_type": "execute_result"
    }
   ],
   "source": [
    "#Determinig unique Words:\n",
    "#A unique number of words in text1 is determined using set and len methods.\n",
    "\n",
    "n_unique_words = len(set(text1))\n",
    "n_unique_words\n",
    "\n",
    "#set(text1) generates list of unique words from text1."
   ]
  },
  {
   "cell_type": "code",
   "execution_count": 12,
   "id": "a76bdcf3-e14d-4235-904a-055191168195",
   "metadata": {},
   "outputs": [
    {
     "data": {
      "text/plain": [
       "17231"
      ]
     },
     "execution_count": 12,
     "metadata": {},
     "output_type": "execute_result"
    }
   ],
   "source": [
    "#Transforming Words\n",
    "#It is possible to apply a function to any number of words and transform them.\n",
    "#Now let's transform every word of text1 to lowercase and determine unique words once again.\n",
    "\n",
    "text1_lcw = [ word.lower() for word in set(text1) ]\n",
    "n_unique_words_lc = len(set(text1_lcw))\n",
    "n_unique_words_lc"
   ]
  },
  {
   "cell_type": "code",
   "execution_count": 22,
   "id": "4b960a71-d07c-4c5a-a384-602d90309d05",
   "metadata": {},
   "outputs": [
    {
     "data": {
      "text/plain": [
       "13.502044830977896"
      ]
     },
     "execution_count": 22,
     "metadata": {},
     "output_type": "execute_result"
    }
   ],
   "source": [
    "#Determining Word Coverage\n",
    "#Word Coverage: Word Coverage refers to an average number of times a word is occurring in the text.\n",
    "#The following examples determine Word Coverage of raw and transformed text1.\n",
    "word_coverage1 = n_words / n_unique_words\n",
    "word_coverage1"
   ]
  },
  {
   "cell_type": "code",
   "execution_count": null,
   "id": "a362cef7-c45d-4954-bcbb-a0446ea22222",
   "metadata": {},
   "outputs": [],
   "source": [
    "#On average, a single word in text1 is repeated 13.5 times."
   ]
  },
  {
   "cell_type": "code",
   "execution_count": 20,
   "id": "9de7c652-9454-4a4c-a16f-bf2ff0f1c4c6",
   "metadata": {},
   "outputs": [
    {
     "data": {
      "text/plain": [
       "15.136614241773549"
      ]
     },
     "execution_count": 20,
     "metadata": {},
     "output_type": "execute_result"
    }
   ],
   "source": [
    "word_coverage2 = n_words / n_unique_words_lc\n",
    "word_coverage2"
   ]
  },
  {
   "cell_type": "code",
   "execution_count": 23,
   "id": "24fd5b08-fbc5-453c-8aeb-f384c8d66d21",
   "metadata": {},
   "outputs": [
    {
     "data": {
      "text/plain": [
       "['uninterpenetratingly', 'characteristically']"
      ]
     },
     "execution_count": 23,
     "metadata": {},
     "output_type": "execute_result"
    }
   ],
   "source": [
    "#Filtering Words\n",
    "#Now let's see how to filter words based on specific criteria.\n",
    "#The following example filters words having characters more than 17.\n",
    "big_words = [word for word in set(text1) if len(word) > 17 ]\n",
    "big_words"
   ]
  },
  {
   "cell_type": "code",
   "execution_count": null,
   "id": "3a858309-0f68-4e36-a8f5-ce59797cad0e",
   "metadata": {},
   "outputs": [],
   "source": [
    "#A list of comprehension with a condition is used above."
   ]
  },
  {
   "cell_type": "code",
   "execution_count": 24,
   "id": "456ce4a1-f060-4270-866f-25cf6d038856",
   "metadata": {},
   "outputs": [
    {
     "data": {
      "text/plain": [
       "['Sunset', 'Sunday', 'Sunda']"
      ]
     },
     "execution_count": 24,
     "metadata": {},
     "output_type": "execute_result"
    }
   ],
   "source": [
    "#Filtering Words\n",
    "#Now let's see one more example which filters words having the prefix Sun.\n",
    "sun_words = [word for word in set(text1) if word.startswith('Sun') ]\n",
    "sun_words\n",
    "#The above example is case-sensitive. It doesn't filter the words starting with lowercase s and followed by un."
   ]
  },
  {
   "cell_type": "code",
   "execution_count": null,
   "id": "1a5d7e22-b38f-4d1a-ac53-fb2999fe6f44",
   "metadata": {},
   "outputs": [],
   "source": []
  }
 ],
 "metadata": {
  "kernelspec": {
   "display_name": "Python 3 (ipykernel)",
   "language": "python",
   "name": "python3"
  },
  "language_info": {
   "codemirror_mode": {
    "name": "ipython",
    "version": 3
   },
   "file_extension": ".py",
   "mimetype": "text/x-python",
   "name": "python",
   "nbconvert_exporter": "python",
   "pygments_lexer": "ipython3",
   "version": "3.9.1"
  }
 },
 "nbformat": 4,
 "nbformat_minor": 5
}
