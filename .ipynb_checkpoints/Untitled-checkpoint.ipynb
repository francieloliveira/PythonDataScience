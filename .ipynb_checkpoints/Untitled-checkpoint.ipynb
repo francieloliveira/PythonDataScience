{
 "cells": [
  {
   "cell_type": "code",
   "execution_count": 5,
   "id": "3a68d888-7b95-4bda-bced-58f70c1c4519",
   "metadata": {},
   "outputs": [
    {
     "name": "stderr",
     "output_type": "stream",
     "text": [
      "[nltk_data] Error loading gutenberg: <urlopen error [WinError 10054]\n",
      "[nltk_data]     An existing connection was forcibly closed by the\n",
      "[nltk_data]     remote host>\n",
      "[nltk_data] Error loading genesis: <urlopen error [WinError 10054] An\n",
      "[nltk_data]     existing connection was forcibly closed by the remote\n",
      "[nltk_data]     host>\n",
      "[nltk_data] Error loading inaugural: <urlopen error [WinError 10054]\n",
      "[nltk_data]     An existing connection was forcibly closed by the\n",
      "[nltk_data]     remote host>\n",
      "[nltk_data] Error loading nps_chat: <urlopen error [WinError 10054] An\n",
      "[nltk_data]     existing connection was forcibly closed by the remote\n",
      "[nltk_data]     host>\n",
      "[nltk_data] Error loading webtext: <urlopen error [WinError 10054] An\n",
      "[nltk_data]     existing connection was forcibly closed by the remote\n",
      "[nltk_data]     host>\n",
      "[nltk_data] Error loading treebank: <urlopen error [WinError 10054] An\n",
      "[nltk_data]     existing connection was forcibly closed by the remote\n",
      "[nltk_data]     host>\n",
      "[nltk_data] Error loading punkt: <urlopen error [WinError 10054] An\n",
      "[nltk_data]     existing connection was forcibly closed by the remote\n",
      "[nltk_data]     host>\n",
      "[nltk_data] Error loading stopwords: <urlopen error [WinError 10054]\n",
      "[nltk_data]     An existing connection was forcibly closed by the\n",
      "[nltk_data]     remote host>\n",
      "[nltk_data] Error loading averaged_perceptron_tagger: <urlopen error\n",
      "[nltk_data]     [WinError 10054] An existing connection was forcibly\n",
      "[nltk_data]     closed by the remote host>\n",
      "[nltk_data] Error loading maxent_ne_chunker: <urlopen error [WinError\n",
      "[nltk_data]     10054] An existing connection was forcibly closed by\n",
      "[nltk_data]     the remote host>\n",
      "[nltk_data] Error loading words: <urlopen error [WinError 10054] An\n",
      "[nltk_data]     existing connection was forcibly closed by the remote\n",
      "[nltk_data]     host>\n",
      "[nltk_data] Error loading omw: <urlopen error [WinError 10054] An\n",
      "[nltk_data]     existing connection was forcibly closed by the remote\n",
      "[nltk_data]     host>\n",
      "[nltk_data] Error loading wordnet: <urlopen error [WinError 10054] An\n",
      "[nltk_data]     existing connection was forcibly closed by the remote\n",
      "[nltk_data]     host>\n",
      "[nltk_data] Error loading vader_lexicon: <urlopen error [WinError\n",
      "[nltk_data]     10054] An existing connection was forcibly closed by\n",
      "[nltk_data]     the remote host>\n",
      "[nltk_data] Error loading brown: <urlopen error [WinError 10054] An\n",
      "[nltk_data]     existing connection was forcibly closed by the remote\n",
      "[nltk_data]     host>\n"
     ]
    }
   ],
   "source": [
    "import nltk\n",
    "# nltk.download('all')\n",
    "nltk.download('gutenberg')\n",
    "nltk.download('genesis')\n",
    "nltk.download('inaugural')\n",
    "nltk.download('nps_chat')\n",
    "nltk.download('webtext')\n",
    "nltk.download('treebank')\n",
    "nltk.download('punkt')\n",
    "nltk.download('stopwords')\n",
    "nltk.download('averaged_perceptron_tagger')\n",
    "nltk.download('maxent_ne_chunker')\n",
    "nltk.download('words')\n",
    "nltk.download('omw')\n",
    "nltk.download('wordnet')\n",
    "nltk.download('vader_lexicon')\n",
    "nltk.download('brown')\n",
    "\n",
    "from nltk.book import *\n",
    "\n",
    "#import nltk\n",
    "from nltk.corpus import stopwords\n",
    "from nltk.stem import PorterStemmer, WordNetLemmatizer\n",
    "from nltk.sentiment import SentimentIntensityAnalyzer\n"
   ]
  },
  {
   "cell_type": "code",
   "execution_count": 13,
   "id": "8100b844-faa0-42b7-95e9-db440dc87346",
   "metadata": {},
   "outputs": [
    {
     "data": {
      "text/plain": [
       "nltk.text.Text"
      ]
     },
     "execution_count": 13,
     "metadata": {},
     "output_type": "execute_result"
    }
   ],
   "source": [
    "type(text1)"
   ]
  },
  {
   "cell_type": "code",
   "execution_count": 14,
   "id": "6fce08d2-fae9-4df3-a26d-09148b80e9ba",
   "metadata": {},
   "outputs": [],
   "source": [
    "n_words = len(text1)"
   ]
  },
  {
   "cell_type": "code",
   "execution_count": 15,
   "id": "538a6d6d-0840-4222-b9ea-95f1d253e9b6",
   "metadata": {},
   "outputs": [
    {
     "data": {
      "text/plain": [
       "260819"
      ]
     },
     "execution_count": 15,
     "metadata": {},
     "output_type": "execute_result"
    }
   ],
   "source": [
    "n_words"
   ]
  },
  {
   "cell_type": "code",
   "execution_count": null,
   "id": "d0c0d083-c747-41de-8e86-6c893849da2d",
   "metadata": {},
   "outputs": [],
   "source": [
    "# Tokenização\n",
    "text = \"Este é um exemplo de frase para tokenização.\"\n",
    "tokens = nltk.word_tokenize(text)\n",
    "\n",
    "# Remoção de stopwords\n",
    "stop_words = set(stopwords.words(\"portuguese\"))\n",
    "filtered_tokens = [token for token in tokens if token.lower() not in stop_words]\n",
    "\n",
    "# Stemming e lematização\n",
    "stemmer = PorterStemmer()\n",
    "lemmatizer = WordNetLemmatizer()\n",
    "stemmed_word = stemmer.stem(\"running\")\n",
    "lemmatized_word = lemmatizer.lemmatize(\"running\")\n",
    "\n",
    "# Part-of-Speech (POS) tagging\n",
    "pos_tags = nltk.pos_tag(tokens)\n",
    "\n",
    "# Análise sintática\n",
    "sentence = \"A casa é bonita.\"\n",
    "pos_tags = nltk.pos_tag(nltk.word_tokenize(sentence))\n",
    "parser = nltk.ChartParser(nltk.data.load(\"grammars/large_grammars/atis.cfg\"))\n",
    "trees = list(parser.parse(pos_tags))\n",
    "\n",
    "# Extração de entidades nomeadas\n",
    "text = \"Bill Gates é o fundador da Microsoft.\"\n",
    "tokens = nltk.word_tokenize(text)\n",
    "pos_tags = nltk.pos_tag(tokens)\n",
    "chunks = nltk.ne_chunk(pos_tags)\n",
    "\n",
    "# Análise de sentimentos\n",
    "text = \"Este filme é incrível!\"\n",
    "sia = SentimentIntensityAnalyzer()\n",
    "sentiment = sia.polarity_scores(text)\n",
    "\n",
    "# Modelagem de tópicos\n",
    "words = nltk.corpus.brown.words(categories=\"news\")\n",
    "fdist = nltk.FreqDist(words)\n",
    "top_words = fdist.most_common(10)\n",
    "\n",
    "# Classificação de texto\n",
    "training_data = [(\"Este filme é ótimo\", \"positivo\"),\n",
    "                 (\"O filme é terrível\", \"negativo\")]\n",
    "features = [(nltk.word_tokenize(text), label) for (text, label) in training_data]\n",
    "classifier = nltk.NaiveBayesClassifier.train(features)\n",
    "text = \"Este filme é fantástico!\"\n",
    "tokens = nltk.word_tokenize(text)\n",
    "classification = classifier.classify(dict([(token, True) for token in tokens]))\n",
    "\n",
    "\n",
    "# Exibir os resultados\n",
    "print(\"Tokenização:\", tokens)\n",
    "print(\"Remoção de stopwords:\", filtered_tokens)\n",
    "print(\"Stemming:\", stemmed_word)\n",
    "print(\"Lemmatização:\", lemmatized_word)\n",
    "print(\"POS tagging:\", pos_tags)\n",
    "print(\"Árvore de análise sintática:\")\n",
    "for tree in trees:\n",
    "    print(tree)\n",
    "print(\"Entidades nomeadas:\")\n",
    "for chunk in chunks:\n",
    "    if hasattr(chunk, \"label\"):\n",
    "        print(chunk.label(), \" \".join(c[0] for c in chunk))\n",
    "print(\"Análise de sentimentos:\", sentiment)\n",
    "print(\"Top palavras:\", top_words)\n",
    "print(\"Classificação de texto:\", classification)"
   ]
  },
  {
   "cell_type": "code",
   "execution_count": 6,
   "id": "5f7fc0cc-357f-422e-92ba-68c36c15de0c",
   "metadata": {},
   "outputs": [
    {
     "data": {
      "text/plain": [
       "FreqDist({'apple': 2, 'kiwi': 1})"
      ]
     },
     "execution_count": 6,
     "metadata": {},
     "output_type": "execute_result"
    }
   ],
   "source": [
    "# Conditional Frequency\n",
    "\n",
    "items = ['apple', 'apple', 'kiwi', 'cabbage', 'cabbage', 'potato']\n",
    "nltk.FreqDist(items)\n",
    "FreqDist({'apple': 2, 'cabbage': 2, 'kiwi': 1, 'potato': 1})\n",
    "\n",
    "c_items = [('F','apple'), ('F','apple'), ('F','kiwi'), ('V','cabbage'), ('V','cabbage'), ('V','potato') ]\n",
    "\n",
    "cfd = nltk.ConditionalFreqDist(c_items)\n",
    "cfd.conditions()\n",
    "['V', 'F']\n",
    "cfd['V']\n",
    "FreqDist({'cabbage': 2, 'potato': 1})\n",
    "cfd['F']\n",
    "FreqDist({'apple': 2, 'kiwi': 1})"
   ]
  },
  {
   "cell_type": "code",
   "execution_count": 7,
   "id": "acd6fd71-e9c2-4c7e-9d0a-1fc7bb0da785",
   "metadata": {},
   "outputs": [
    {
     "ename": "NameError",
     "evalue": "name 'brown' is not defined",
     "output_type": "error",
     "traceback": [
      "\u001b[1;31m---------------------------------------------------------------------------\u001b[0m",
      "\u001b[1;31mNameError\u001b[0m                                 Traceback (most recent call last)",
      "Cell \u001b[1;32mIn[7], line 3\u001b[0m\n\u001b[0;32m      1\u001b[0m \u001b[38;5;66;03m# Counting Words by Genre\u001b[39;00m\n\u001b[0;32m      2\u001b[0m \u001b[38;5;66;03m# Now let's determine the frequency of words, of a particular genre, in brown corpus.\u001b[39;00m\n\u001b[1;32m----> 3\u001b[0m cfd \u001b[38;5;241m=\u001b[39m nltk\u001b[38;5;241m.\u001b[39mConditionalFreqDist([ (genre, word) \u001b[38;5;28;01mfor\u001b[39;00m genre \u001b[38;5;129;01min\u001b[39;00m \u001b[43mbrown\u001b[49m\u001b[38;5;241m.\u001b[39mcategories() \u001b[38;5;28;01mfor\u001b[39;00m word \u001b[38;5;129;01min\u001b[39;00m brown\u001b[38;5;241m.\u001b[39mwords(categories\u001b[38;5;241m=\u001b[39mgenre) ])\n\u001b[0;32m      5\u001b[0m \u001b[38;5;66;03m# The conditions applied can be viewed as shown below.\u001b[39;00m\n\u001b[0;32m      6\u001b[0m cfd\u001b[38;5;241m.\u001b[39mconditions()\n",
      "\u001b[1;31mNameError\u001b[0m: name 'brown' is not defined"
     ]
    }
   ],
   "source": [
    "# Counting Words by Genre\n",
    "# Now let's determine the frequency of words, of a particular genre, in brown corpus.\n",
    "cfd = nltk.ConditionalFreqDist([ (genre, word) for genre in brown.categories() for word in brown.words(categories=genre) ])\n",
    "\n",
    "# The conditions applied can be viewed as shown below.\n",
    "cfd.conditions()\n"
   ]
  },
  {
   "cell_type": "code",
   "execution_count": 24,
   "id": "91b612e5-39cc-450f-a3ce-0fb372b5f490",
   "metadata": {},
   "outputs": [
    {
     "ename": "NameError",
     "evalue": "name 'brown' is not defined",
     "output_type": "error",
     "traceback": [
      "\u001b[1;31m---------------------------------------------------------------------------\u001b[0m",
      "\u001b[1;31mNameError\u001b[0m                                 Traceback (most recent call last)",
      "Cell \u001b[1;32mIn[24], line 5\u001b[0m\n\u001b[0;32m      1\u001b[0m \u001b[38;5;66;03m# Counting Words by Genre\u001b[39;00m\n\u001b[0;32m      2\u001b[0m \u001b[38;5;66;03m# Now let's determine the frequency of words, of a particular genre, in brown corpus.\u001b[39;00m\n\u001b[0;32m      3\u001b[0m cfd \u001b[38;5;241m=\u001b[39m nltk\u001b[38;5;241m.\u001b[39mConditionalFreqDist([ \n\u001b[0;32m      4\u001b[0m (genre, word) \n\u001b[1;32m----> 5\u001b[0m \u001b[38;5;28;01mfor\u001b[39;00m genre \u001b[38;5;129;01min\u001b[39;00m \u001b[43mbrown\u001b[49m\u001b[38;5;241m.\u001b[39mcategories() \n\u001b[0;32m      6\u001b[0m \u001b[38;5;28;01mfor\u001b[39;00m word \u001b[38;5;129;01min\u001b[39;00m brown\u001b[38;5;241m.\u001b[39mwords(categories\u001b[38;5;241m=\u001b[39mgenre) ])\n\u001b[0;32m      7\u001b[0m \u001b[38;5;66;03m# The conditions applied can be viewed as shown below.\u001b[39;00m\n\u001b[0;32m      8\u001b[0m cfd\u001b[38;5;241m.\u001b[39mconditions()\n",
      "\u001b[1;31mNameError\u001b[0m: name 'brown' is not defined"
     ]
    }
   ],
   "source": [
    "# Counting Words by Genre\n",
    "# Now let's determine the frequency of words, of a particular genre, in brown corpus.\n",
    "cfd = nltk.ConditionalFreqDist([ \n",
    "(genre, word) \n",
    "for genre in brown.categories() \n",
    "for word in brown.words(categories=genre) ])\n",
    "# The conditions applied can be viewed as shown below.\n",
    "cfd.conditions()\n"
   ]
  },
  {
   "cell_type": "code",
   "execution_count": 27,
   "id": "94970a7a-84fe-40b6-8f53-f8f3e4df4cc6",
   "metadata": {},
   "outputs": [
    {
     "name": "stdout",
     "output_type": "stream",
     "text": [
      "Condições: ['condicao1', 'condicao2', 'condicao3']\n",
      "Palavras para a condição1: dict_keys(['palavra1', 'palavra2', 'palavra3'])\n",
      "Número total de valores: 11\n"
     ]
    },
    {
     "ename": "AttributeError",
     "evalue": "'ConditionalFreqDist' object has no attribute 'B'",
     "output_type": "error",
     "traceback": [
      "\u001b[1;31m---------------------------------------------------------------------------\u001b[0m",
      "\u001b[1;31mAttributeError\u001b[0m                            Traceback (most recent call last)",
      "Cell \u001b[1;32mIn[27], line 25\u001b[0m\n\u001b[0;32m     22\u001b[0m total_values \u001b[38;5;241m=\u001b[39m cfdist\u001b[38;5;241m.\u001b[39mN()\n\u001b[0;32m     23\u001b[0m \u001b[38;5;28mprint\u001b[39m(\u001b[38;5;124m\"\u001b[39m\u001b[38;5;124mNúmero total de valores:\u001b[39m\u001b[38;5;124m\"\u001b[39m, total_values)\n\u001b[1;32m---> 25\u001b[0m total_conditions \u001b[38;5;241m=\u001b[39m \u001b[43mcfdist\u001b[49m\u001b[38;5;241;43m.\u001b[39;49m\u001b[43mB\u001b[49m()\n\u001b[0;32m     26\u001b[0m \u001b[38;5;28mprint\u001b[39m(\u001b[38;5;124m\"\u001b[39m\u001b[38;5;124mNúmero total de condições:\u001b[39m\u001b[38;5;124m\"\u001b[39m, total_conditions)\n\u001b[0;32m     28\u001b[0m most_common \u001b[38;5;241m=\u001b[39m cfdist\u001b[38;5;241m.\u001b[39mmost_common(\u001b[38;5;241m3\u001b[39m)\n",
      "\u001b[1;31mAttributeError\u001b[0m: 'ConditionalFreqDist' object has no attribute 'B'"
     ]
    }
   ],
   "source": [
    "from nltk.probability import ConditionalFreqDist\n",
    "from nltk import FreqDist\n",
    "\n",
    "# Criar uma distribuição de frequência condicional\n",
    "cfdist = ConditionalFreqDist()\n",
    "\n",
    "# Adicionar dados à distribuição de frequência condicional\n",
    "cfdist['condicao1'] = FreqDist(['palavra1', 'palavra1', 'palavra2', 'palavra3'])\n",
    "cfdist['condicao2'] = FreqDist(['palavra1', 'palavra2', 'palavra2', 'palavra3'])\n",
    "cfdist['condicao3'] = FreqDist(['palavra1', 'palavra1', 'palavra3'])\n",
    "\n",
    "# Utilizar os métodos da distribuição de frequência condicional\n",
    "conditions = cfdist.conditions()\n",
    "print(\"Condições:\", conditions)\n",
    "\n",
    "keys = cfdist['condicao1'].keys()\n",
    "print(\"Palavras para a condição1:\", keys)\n",
    "\n",
    "freqdist = cfdist.freqdist('condicao1')\n",
    "print(\"Distribuição de frequência para a condição1:\", freqdist)\n",
    "\n",
    "total_values = cfdist.N()\n",
    "print(\"Número total de valores:\", total_values)\n",
    "\n",
    "total_conditions = cfdist.B()\n",
    "print(\"Número total de condições:\", total_conditions)\n",
    "\n",
    "most_common = cfdist.most_common(3)\n",
    "print(\"Mais comuns:\", most_common)\n",
    "\n",
    "max_condition = cfdist.max()\n",
    "print(\"Condição com maior valor:\", max_condition)\n",
    "\n",
    "cfdist['condicao1'].tabulate()\n",
    "cfdist['condicao1'].plot()"
   ]
  },
  {
   "cell_type": "code",
   "execution_count": 10,
   "id": "32751b10-107d-4ff7-a3b7-b54315853d0d",
   "metadata": {},
   "outputs": [
    {
     "name": "stdout",
     "output_type": "stream",
     "text": [
      "           leadership    worship   hardship \n",
      "government          0          0          0 \n",
      "     humor          0          0          0 \n",
      "   reviews          0          0          0 \n"
     ]
    }
   ],
   "source": [
    "# Viewing Word Count\n"
   ]
  },
  {
   "cell_type": "code",
   "execution_count": 11,
   "id": "c941f51a-97a4-495f-adac-d5e872f9068d",
   "metadata": {},
   "outputs": [
    {
     "name": "stdout",
     "output_type": "stream",
     "text": [
      "           leadership    worship   hardship \n",
      "government          0          0          0 \n",
      "     humor          0          0          0 \n",
      "   reviews          0          0          0 \n"
     ]
    }
   ],
   "source": [
    "# Viewing Cumulative Word Count\n",
    "cfd.tabulate(conditions=['government', 'humor', 'reviews'], samples=['leadership', 'worship', 'hardship'], cumulative = True)"
   ]
  },
  {
   "cell_type": "code",
   "execution_count": 21,
   "id": "9e48e5bc-495d-42fc-a854-9be998271a9f",
   "metadata": {},
   "outputs": [
    {
     "data": {
      "text/plain": [
       "[('the', 5580), (',', 5188), ('.', 4030)]"
      ]
     },
     "execution_count": 21,
     "metadata": {},
     "output_type": "execute_result"
    }
   ],
   "source": [
    "# Accessing Individual Frequency Distributions\n",
    "news_fd = cfd['news']\n",
    "news_fd.most_common(3)\n",
    "# [('the', 5580), (',', 5188), ('.', 4030)]"
   ]
  },
  {
   "cell_type": "code",
   "execution_count": 22,
   "id": "440f70cf-9403-4c41-81b4-859247300f88",
   "metadata": {},
   "outputs": [
    {
     "data": {
      "text/plain": [
       "0"
      ]
     },
     "execution_count": 22,
     "metadata": {},
     "output_type": "execute_result"
    }
   ],
   "source": [
    "# You can further access count of any sample as shown below.\n",
    "news_fd['the']"
   ]
  },
  {
   "cell_type": "code",
   "execution_count": 20,
   "id": "3aed5e6b-7eb3-4246-8be2-5c0cf774e247",
   "metadata": {},
   "outputs": [
    {
     "data": {
      "text/plain": [
       "True"
      ]
     },
     "execution_count": 20,
     "metadata": {},
     "output_type": "execute_result"
    }
   ],
   "source": [
    "# Comparing Frequency Distributions\n",
    "from nltk.corpus import names\n",
    "nt = [(fid.split('.')[0], name[-1])    for fid in names.fileids() \n",
    "  for name in names.words(fid) ]\n",
    "cfd2 = nltk.ConditionalFreqDist(nt)\n",
    "sum([cfd2['female'][x] for x in cfd2['female']]) > sum([cfd2['male'][x] for x in cfd2['male']])\n",
    "# True"
   ]
  },
  {
   "cell_type": "code",
   "execution_count": 19,
   "id": "e440a6ab-dbf9-46ea-99f6-b3f66181cb53",
   "metadata": {},
   "outputs": [
    {
     "name": "stdout",
     "output_type": "stream",
     "text": [
      "          a    e \n",
      "female 1773 1432 \n",
      "  male   29  468 \n"
     ]
    }
   ],
   "source": [
    "# Comparing Frequency Distributions\n",
    "# The following code snippet displays frequency count of characters a and e in females and males, respectively.\n",
    "cfd2.tabulate(samples=['a', 'e'])"
   ]
  },
  {
   "cell_type": "code",
   "execution_count": null,
   "id": "c7d5e9cb-2a59-4b4e-ae3a-745cb88cbe58",
   "metadata": {},
   "outputs": [],
   "source": []
  }
 ],
 "metadata": {
  "kernelspec": {
   "display_name": "Python 3 (ipykernel)",
   "language": "python",
   "name": "python3"
  },
  "language_info": {
   "codemirror_mode": {
    "name": "ipython",
    "version": 3
   },
   "file_extension": ".py",
   "mimetype": "text/x-python",
   "name": "python",
   "nbconvert_exporter": "python",
   "pygments_lexer": "ipython3",
   "version": "3.9.1"
  }
 },
 "nbformat": 4,
 "nbformat_minor": 5
}
